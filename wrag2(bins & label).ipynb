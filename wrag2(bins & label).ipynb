{
  "metadata": {
    "kernelspec": {
      "name": "python",
      "display_name": "Python (Pyodide)",
      "language": "python"
    },
    "language_info": {
      "codemirror_mode": {
        "name": "python",
        "version": 3
      },
      "file_extension": ".py",
      "mimetype": "text/x-python",
      "name": "python",
      "nbconvert_exporter": "python",
      "pygments_lexer": "ipython3",
      "version": "3.8"
    }
  },
  "nbformat_minor": 5,
  "nbformat": 4,
  "cells": [
    {
      "id": "9c46d09e-7ee6-42df-830d-91b5e105188e",
      "cell_type": "code",
      "source": "%pip install seaborn",
      "metadata": {
        "trusted": true
      },
      "outputs": [],
      "execution_count": 2
    },
    {
      "id": "7f1e9167-2edd-4e28-a445-3282b0b8627e",
      "cell_type": "code",
      "source": "import pandas as pd\nimport numpy as np\nimport matplotlib.pyplot as plt\nimport seaborn as sns\nfrom scipy import stats",
      "metadata": {
        "trusted": true
      },
      "outputs": [],
      "execution_count": 3
    },
    {
      "id": "07072d80-fa4d-4057-84c9-baf4993cda8a",
      "cell_type": "code",
      "source": "# Load the dataset\nfile_path = 'AcademicPerformance_New.csv'\ndf = pd.read_csv(file_path)",
      "metadata": {
        "trusted": true
      },
      "outputs": [],
      "execution_count": 4
    },
    {
      "id": "09b17214-0c0d-447c-97a5-99bda643b5c5",
      "cell_type": "code",
      "source": "# 1. Handling Missing Values (Single Column and Whole Dataset)\nprint(\"Missing values (before):\\n\", df.isnull().sum())\n",
      "metadata": {
        "trusted": true
      },
      "outputs": [
        {
          "name": "stdout",
          "output_type": "stream",
          "text": "Missing values (before):\n Roll No         1\nNationalITy     1\nWT              8\nDSBDA           4\nAI             10\nAverage         1\nGrade           1\nPG              1\ndtype: int64\n"
        }
      ],
      "execution_count": 5
    },
    {
      "id": "510a7beb-4b4d-40c9-bef2-b69c1da861f7",
      "cell_type": "code",
      "source": "# Handling a single column - e.g., 'WT' using mean\ndf['WT'].fillna(df['WT'].mean(), inplace=True)",
      "metadata": {
        "trusted": true
      },
      "outputs": [
        {
          "name": "stderr",
          "output_type": "stream",
          "text": "<ipython-input-13-89773119efc5>:2: FutureWarning: A value is trying to be set on a copy of a DataFrame or Series through chained assignment using an inplace method.\nThe behavior will change in pandas 3.0. This inplace method will never work because the intermediate object on which we are setting values always behaves as a copy.\n\nFor example, when doing 'df[col].method(value, inplace=True)', try using 'df.method({col: value}, inplace=True)' or df[col] = df[col].method(value) instead, to perform the operation inplace on the original object.\n\n\n  df['WT'].fillna(df['WT'].mean(), inplace=True)\n"
        }
      ],
      "execution_count": 13
    },
    {
      "id": "105454c2-c29b-4a21-935e-e8568c42e87d",
      "cell_type": "code",
      "source": "# Handling all other columns\nfor column in df.columns:\n    if df[column].dtype in [np.float64, np.int64]:\n        df[column].fillna(df[column].mean(), inplace=True)\n    else:\n        df[column].fillna(df[column].mode()[0], inplace=True)\n\nprint(\"\\nMissing values (after):\\n\", df.isnull().sum())\n",
      "metadata": {
        "trusted": true
      },
      "outputs": [
        {
          "name": "stderr",
          "output_type": "stream",
          "text": "<ipython-input-7-13d18d754a51>:4: FutureWarning: A value is trying to be set on a copy of a DataFrame or Series through chained assignment using an inplace method.\nThe behavior will change in pandas 3.0. This inplace method will never work because the intermediate object on which we are setting values always behaves as a copy.\n\nFor example, when doing 'df[col].method(value, inplace=True)', try using 'df.method({col: value}, inplace=True)' or df[col] = df[col].method(value) instead, to perform the operation inplace on the original object.\n\n\n  df[column].fillna(df[column].mean(), inplace=True)\n<ipython-input-7-13d18d754a51>:6: FutureWarning: A value is trying to be set on a copy of a DataFrame or Series through chained assignment using an inplace method.\nThe behavior will change in pandas 3.0. This inplace method will never work because the intermediate object on which we are setting values always behaves as a copy.\n\nFor example, when doing 'df[col].method(value, inplace=True)', try using 'df.method({col: value}, inplace=True)' or df[col] = df[col].method(value) instead, to perform the operation inplace on the original object.\n\n\n  df[column].fillna(df[column].mode()[0], inplace=True)\n"
        },
        {
          "name": "stdout",
          "output_type": "stream",
          "text": "\nMissing values (after):\n Roll No        0\nNationalITy    0\nWT             0\nDSBDA          0\nAI             0\nAverage        0\nGrade          0\nPG             0\ndtype: int64\n"
        }
      ],
      "execution_count": 7
    },
    {
      "id": "129a3871-4331-49ea-b822-26411a6cb93a",
      "cell_type": "code",
      "source": "# 2. Detecting Outliers using Z-Score\nnumeric_cols = df.select_dtypes(include=[np.number]).columns\nz_scores = np.abs(stats.zscore(df[numeric_cols]))\noutliers = (z_scores > 3)\n\nprint(\"\\nOutliers detected:\\n\", (outliers.sum()))",
      "metadata": {
        "trusted": true
      },
      "outputs": [
        {
          "name": "stdout",
          "output_type": "stream",
          "text": "\nOutliers detected:\n Roll No    0\nWT         1\nDSBDA      0\nAI         0\nAverage    0\ndtype: int64\n"
        }
      ],
      "execution_count": 8
    },
    {
      "id": "fa0cf8be-a9a0-4114-80de-e7b5fd8e6507",
      "cell_type": "code",
      "source": "# 3. Display and Remove Outliers\noutlier_indices = np.where(z_scores > 3)\nprint(\"\\nOutlier values (sample):\")\nprint(df.iloc[outlier_indices[0]].head())",
      "metadata": {
        "trusted": true
      },
      "outputs": [
        {
          "name": "stdout",
          "output_type": "stream",
          "text": "\nOutlier values (sample):\n    Roll No NationalITy    WT  DSBDA    AI  Average Grade   PG\n17     18.0      Rassia  18.0   32.0  28.0     26.0     D  Yes\n"
        }
      ],
      "execution_count": 9
    },
    {
      "id": "631c8dda-110d-4101-b6ea-f5a324b43d4e",
      "cell_type": "code",
      "source": "# Remove outliers\ndf_clean = df[(z_scores < 3).all(axis=1)]\nprint(\"\\nData shape after removing outliers:\", df_clean.shape)",
      "metadata": {
        "trusted": true
      },
      "outputs": [
        {
          "name": "stdout",
          "output_type": "stream",
          "text": "\n (98, 8)pe after removing outliers:\n"
        }
      ],
      "execution_count": 10
    },
    {
      "id": "4e4ee248-4726-4215-9477-c9685e6e9058",
      "cell_type": "code",
      "source": "# 4. Data Transformation: Create Bins and Labels for 'Average'\nbins = [0, 50, 65, 75, 100]\nlabels = ['Poor', 'Average', 'Good', 'Excellent']\ndf_clean['Performance'] = pd.cut(df_clean['Average'], bins=bins, labels=labels)",
      "metadata": {
        "trusted": true
      },
      "outputs": [
        {
          "name": "stderr",
          "output_type": "stream",
          "text": "<ipython-input-11-44eccf7f4824>:4: SettingWithCopyWarning: \nA value is trying to be set on a copy of a slice from a DataFrame.\nTry using .loc[row_indexer,col_indexer] = value instead\n\nSee the caveats in the documentation: https://pandas.pydata.org/pandas-docs/stable/user_guide/indexing.html#returning-a-view-versus-a-copy\n  df_clean['Performance'] = pd.cut(df_clean['Average'], bins=bins, labels=labels)\n"
        }
      ],
      "execution_count": 11
    },
    {
      "id": "709a48f4-b97b-4cc4-93a9-66109c2e13c3",
      "cell_type": "code",
      "source": "# 5. Box Plot\nplt.figure(figsize=(10, 6))\nsns.boxplot(data=df_clean[['WT', 'DSBDA', 'AI']])\nplt.title('Boxplot of Academic Scores')\nplt.xlabel('Subjects')\nplt.ylabel('Scores')\nplt.grid(True)\nplt.tight_layout()\nplt.show()",
      "metadata": {
        "trusted": true
      },
      "outputs": [
        {
          "output_type": "display_data",
          "data": {
            "text/plain": "<Figure size 1000x600 with 1 Axes>",
            "image/png": "[encoded data removed]"
          },
          "metadata": {}
        }
      ],
      "execution_count": 12
    },
    {
      "id": "e0b74e22-8912-4960-a108-b636338f5f22",
      "cell_type": "code",
      "source": "",
      "metadata": {
        "trusted": true
      },
      "outputs": [],
      "execution_count": null
    }
  ]
}