{
  "metadata": {
    "kernelspec": {
      "name": "python",
      "display_name": "Python (Pyodide)",
      "language": "python"
    },
    "language_info": {
      "codemirror_mode": {
        "name": "python",
        "version": 3
      },
      "file_extension": ".py",
      "mimetype": "text/x-python",
      "name": "python",
      "nbconvert_exporter": "python",
      "pygments_lexer": "ipython3",
      "version": "3.8"
    }
  },
  "nbformat_minor": 5,
  "nbformat": 4,
  "cells": [
    {
      "id": "d8fd8bd7-745f-4643-9932-80aaa579f880",
      "cell_type": "code",
      "source": "%pip install seaborn ",
      "metadata": {
        "trusted": true
      },
      "outputs": [],
      "execution_count": 1
    },
    {
      "id": "07a9ed2a-aa1d-457a-940f-254f048afa87",
      "cell_type": "code",
      "source": "import pandas as pd\nimport numpy as np\nimport matplotlib.pyplot as plt\nimport seaborn as sns",
      "metadata": {
        "trusted": true
      },
      "outputs": [
        {
          "name": "stderr",
          "output_type": "stream",
          "text": "Matplotlib is building the font cache; this may take a moment.\n"
        }
      ],
      "execution_count": 2
    },
    {
      "id": "be90d1c2-5b09-4a9e-8646-408a9ba402c8",
      "cell_type": "code",
      "source": "df =pd.read_csv(\"AcademicPerformance_New.csv\")",
      "metadata": {
        "trusted": true
      },
      "outputs": [],
      "execution_count": 6
    },
    {
      "id": "5f1fe213-494c-4ba0-ba18-9eb925046648",
      "cell_type": "code",
      "source": "# Step 2: Data Preprocessing\nprint(\"Missing values in each column:\\n\", df.isnull().sum())\nprint(\"\\nStatistical summary:\\n\", df.describe(include='all'))",
      "metadata": {
        "trusted": true
      },
      "outputs": [
        {
          "name": "stdout",
          "output_type": "stream",
          "text": "Missing values in each column:\n Roll No         1\nNationalITy     1\nWT              8\nDSBDA           4\nAI             10\nAverage         1\nGrade           1\nPG              1\ndtype: int64\n\nStatistical summary:\n           Roll No NationalITy         WT      DSBDA         AI    Average  \\\ncount   98.000000          98  91.000000  95.000000  89.000000  98.000000   \nunique        NaN           5        NaN        NaN        NaN        NaN   \ntop           NaN         USA        NaN        NaN        NaN        NaN   \nfreq          NaN          30        NaN        NaN        NaN        NaN   \nmean    50.479592         NaN  61.164835  64.652632  62.235955  58.663265   \nstd     28.469274         NaN  14.995009  14.893072  16.216590  16.518482   \nmin      1.000000         NaN  18.000000  26.000000  20.000000  26.000000   \n25%     26.250000         NaN  51.000000  54.500000  52.000000  45.250000   \n50%     50.500000         NaN  63.000000  66.000000  63.000000  59.333333   \n75%     74.750000         NaN  71.000000  74.000000  74.000000  71.916667   \nmax     99.000000         NaN  97.000000  95.000000  92.000000  91.666667   \n\n       Grade   PG  \ncount     98   98  \nunique     4    2  \ntop        D  Yes  \nfreq      52   49  \nmean     NaN  NaN  \nstd      NaN  NaN  \nmin      NaN  NaN  \n25%      NaN  NaN  \n50%      NaN  NaN  \n75%      NaN  NaN  \nmax      NaN  NaN  \n"
        }
      ],
      "execution_count": 7
    },
    {
      "id": "b4c298bc-2f29-4e23-adc4-2f39f47fb6db",
      "cell_type": "code",
      "source": "# Step 3: Variable Descriptions\nprint(\"\\nData types of each column:\\n\", df.dtypes)\nprint(\"\\nShape of the dataset:\", df.shape)\n",
      "metadata": {
        "trusted": true
      },
      "outputs": [
        {
          "name": "stdout",
          "output_type": "stream",
          "text": "\nData types of each column:\n Roll No        float64\nNationalITy     object\nWT             float64\nDSBDA          float64\nAI             float64\nAverage        float64\nGrade           object\nPG              object\ndtype: object\n\n (99, 8) the dataset:\n"
        }
      ],
      "execution_count": 8
    },
    {
      "id": "8608354f-ba29-4024-be0c-c71aff3ba743",
      "cell_type": "code",
      "source": "# Step 4: Min-Max Normalization and Box Plot for 'WT' column\ndf['WT'].fillna(df['WT'].mean(), inplace=True)\ndf['WT_MinMax'] = (df['WT'] - df['WT'].min()) / (df['WT'].max() - df['WT'].min())\n",
      "metadata": {
        "trusted": true
      },
      "outputs": [
        {
          "name": "stderr",
          "output_type": "stream",
          "text": "<ipython-input-9-45c61571f13f>:2: FutureWarning: A value is trying to be set on a copy of a DataFrame or Series through chained assignment using an inplace method.\nThe behavior will change in pandas 3.0. This inplace method will never work because the intermediate object on which we are setting values always behaves as a copy.\n\nFor example, when doing 'df[col].method(value, inplace=True)', try using 'df.method({col: value}, inplace=True)' or df[col] = df[col].method(value) instead, to perform the operation inplace on the original object.\n\n\n  df['WT'].fillna(df['WT'].mean(), inplace=True)\n"
        }
      ],
      "execution_count": 9
    },
    {
      "id": "71bb6171-0f2e-4d77-80ef-5538a973d924",
      "cell_type": "code",
      "source": "plt.figure(figsize=(6, 4))\nsns.boxplot(y=df['WT_MinMax'])\nplt.title('Boxplot of WT after Min-Max Normalization')\nplt.tight_layout()\nplt.show()",
      "metadata": {
        "trusted": true
      },
      "outputs": [
        {
          "output_type": "display_data",
          "data": {
            "text/plain": "<Figure size 600x400 with 1 Axes>",
            "image/png": "[encoded data removed]"
          },
          "metadata": {}
        }
      ],
      "execution_count": 10
    },
    {
      "id": "06f67449-c8e0-41ea-9b50-1d976f117e5c",
      "cell_type": "code",
      "source": "# Step 5: Convert Categorical to Quantitative (PG Column)\ndf['PG_Quantitative'] = df['PG'].map({'Yes': 1, 'No': 0})\nprint(\"\\nSample conversion of PG column:\")\nprint(df[['PG', 'PG_Quantitative']].head())",
      "metadata": {
        "trusted": true
      },
      "outputs": [
        {
          "name": "stdout",
          "output_type": "stream",
          "text": "\nSample conversion of PG column:\n    PG  PG_Quantitative\n0  Yes              1.0\n1   No              0.0\n2  NaN              NaN\n3  Yes              1.0\n4   No              0.0\n"
        }
      ],
      "execution_count": 11
    },
    {
      "id": "7bc1516c-0c68-4f6c-a885-bbe9abe2d875",
      "cell_type": "code",
      "source": "",
      "metadata": {
        "trusted": true
      },
      "outputs": [],
      "execution_count": null
    }
  ]
}