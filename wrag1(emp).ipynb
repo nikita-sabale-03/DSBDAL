{
  "metadata": {
    "kernelspec": {
      "name": "python",
      "display_name": "Python (Pyodide)",
      "language": "python"
    },
    "language_info": {
      "codemirror_mode": {
        "name": "python",
        "version": 3
      },
      "file_extension": ".py",
      "mimetype": "text/x-python",
      "name": "python",
      "nbconvert_exporter": "python",
      "pygments_lexer": "ipython3",
      "version": "3.8"
    }
  },
  "nbformat_minor": 5,
  "nbformat": 4,
  "cells": [
    {
      "id": "e5e41205-cf9d-4320-8122-8a8b9e164290",
      "cell_type": "code",
      "source": "%pip install seaborn \n",
      "metadata": {
        "trusted": true
      },
      "outputs": [],
      "execution_count": 1
    },
    {
      "id": "251cd9c9-aeb4-420f-af8a-0ac6916fd70a",
      "cell_type": "code",
      "source": "import pandas as pd\nimport seaborn as sns \nimport numpy as np\nimport matplotlib.pyplot as plt",
      "metadata": {
        "trusted": true
      },
      "outputs": [
        {
          "name": "stderr",
          "output_type": "stream",
          "text": "Matplotlib is building the font cache; this may take a moment.\n"
        }
      ],
      "execution_count": 2
    },
    {
      "id": "0fe12b01-8e04-41df-b60e-245e79e7d8cb",
      "cell_type": "code",
      "source": "df=pd.read_csv(\"Employee.csv\")",
      "metadata": {
        "trusted": true
      },
      "outputs": [],
      "execution_count": 4
    },
    {
      "id": "18e62e71-17c5-45ae-9616-a5c9ee33ede4",
      "cell_type": "code",
      "source": "print(df.head())",
      "metadata": {
        "trusted": true
      },
      "outputs": [
        {
          "name": "stdout",
          "output_type": "stream",
          "text": "   Education  JoiningYear       City  PaymentTier  Age  Gender EverBenched  \\\n0  Bachelors         2017  Bangalore            3   34    Male          No   \n1  Bachelors         2013       Pune            1   28  Female          No   \n2  Bachelors         2014  New Delhi            3   38  Female          No   \n3    Masters         2016  Bangalore            3   27    Male          No   \n4    Masters         2017       Pune            3   24    Male         Yes   \n\n   ExperienceInCurrentDomain  LeaveOrNot  \n0                          0           0  \n1                          3           1  \n2                          2           0  \n3                          5           1  \n4                          2           1  \n"
        }
      ],
      "execution_count": 5
    },
    {
      "id": "00aad321-0287-41f3-a41d-4a0cd9a3be84",
      "cell_type": "code",
      "source": "print(df.isnull().sum())",
      "metadata": {
        "trusted": true
      },
      "outputs": [
        {
          "name": "stdout",
          "output_type": "stream",
          "text": "Education                    0\nJoiningYear                  0\nCity                         0\nPaymentTier                  0\nAge                          0\nGender                       0\nEverBenched                  0\nExperienceInCurrentDomain    0\nLeaveOrNot                   0\ndtype: int64\n"
        }
      ],
      "execution_count": 6
    },
    {
      "id": "6a63926c-0d60-4336-9ade-b22f20dfc670",
      "cell_type": "code",
      "source": "df.describe(include=\"all\")",
      "metadata": {
        "trusted": true
      },
      "outputs": [
        {
          "execution_count": 7,
          "output_type": "execute_result",
          "data": {
            "text/plain": "        Education  JoiningYear       City  PaymentTier          Age Gender  \\\ncount        4653  4653.000000       4653  4653.000000  4653.000000   4653   \nunique          3          NaN          3          NaN          NaN      2   \ntop     Bachelors          NaN  Bangalore          NaN          NaN   Male   \nfreq         3601          NaN       2228          NaN          NaN   2778   \nmean          NaN  2015.062970        NaN     2.698259    29.393295    NaN   \nstd           NaN     1.863377        NaN     0.561435     4.826087    NaN   \nmin           NaN  2012.000000        NaN     1.000000    22.000000    NaN   \n25%           NaN  2013.000000        NaN     3.000000    26.000000    NaN   \n50%           NaN  2015.000000        NaN     3.000000    28.000000    NaN   \n75%           NaN  2017.000000        NaN     3.000000    32.000000    NaN   \nmax           NaN  2018.000000        NaN     3.000000    41.000000    NaN   \n\n       EverBenched  ExperienceInCurrentDomain   LeaveOrNot  \ncount         4653                4653.000000  4653.000000  \nunique           2                        NaN          NaN  \ntop             No                        NaN          NaN  \nfreq          4175                        NaN          NaN  \nmean           NaN                   2.905652     0.343864  \nstd            NaN                   1.558240     0.475047  \nmin            NaN                   0.000000     0.000000  \n25%            NaN                   2.000000     0.000000  \n50%            NaN                   3.000000     0.000000  \n75%            NaN                   4.000000     1.000000  \nmax            NaN                   7.000000     1.000000  ",
            "text/html": "<div>\n<style scoped>\n    .dataframe tbody tr th:only-of-type {\n        vertical-align: middle;\n    }\n\n    .dataframe tbody tr th {\n        vertical-align: top;\n    }\n\n    .dataframe thead th {\n        text-align: right;\n    }\n</style>\n<table border=\"1\" class=\"dataframe\">\n  <thead>\n    <tr style=\"text-align: right;\">\n      <th></th>\n      <th>Education</th>\n      <th>JoiningYear</th>\n      <th>City</th>\n      <th>PaymentTier</th>\n      <th>Age</th>\n      <th>Gender</th>\n      <th>EverBenched</th>\n      <th>ExperienceInCurrentDomain</th>\n      <th>LeaveOrNot</th>\n    </tr>\n  </thead>\n  <tbody>\n    <tr>\n      <th>count</th>\n      <td>4653</td>\n      <td>4653.000000</td>\n      <td>4653</td>\n      <td>4653.000000</td>\n      <td>4653.000000</td>\n      <td>4653</td>\n      <td>4653</td>\n      <td>4653.000000</td>\n      <td>4653.000000</td>\n    </tr>\n    <tr>\n      <th>unique</th>\n      <td>3</td>\n      <td>NaN</td>\n      <td>3</td>\n      <td>NaN</td>\n      <td>NaN</td>\n      <td>2</td>\n      <td>2</td>\n      <td>NaN</td>\n      <td>NaN</td>\n    </tr>\n    <tr>\n      <th>top</th>\n      <td>Bachelors</td>\n      <td>NaN</td>\n      <td>Bangalore</td>\n      <td>NaN</td>\n      <td>NaN</td>\n      <td>Male</td>\n      <td>No</td>\n      <td>NaN</td>\n      <td>NaN</td>\n    </tr>\n    <tr>\n      <th>freq</th>\n      <td>3601</td>\n      <td>NaN</td>\n      <td>2228</td>\n      <td>NaN</td>\n      <td>NaN</td>\n      <td>2778</td>\n      <td>4175</td>\n      <td>NaN</td>\n      <td>NaN</td>\n    </tr>\n    <tr>\n      <th>mean</th>\n      <td>NaN</td>\n      <td>2015.062970</td>\n      <td>NaN</td>\n      <td>2.698259</td>\n      <td>29.393295</td>\n      <td>NaN</td>\n      <td>NaN</td>\n      <td>2.905652</td>\n      <td>0.343864</td>\n    </tr>\n    <tr>\n      <th>std</th>\n      <td>NaN</td>\n      <td>1.863377</td>\n      <td>NaN</td>\n      <td>0.561435</td>\n      <td>4.826087</td>\n      <td>NaN</td>\n      <td>NaN</td>\n      <td>1.558240</td>\n      <td>0.475047</td>\n    </tr>\n    <tr>\n      <th>min</th>\n      <td>NaN</td>\n      <td>2012.000000</td>\n      <td>NaN</td>\n      <td>1.000000</td>\n      <td>22.000000</td>\n      <td>NaN</td>\n      <td>NaN</td>\n      <td>0.000000</td>\n      <td>0.000000</td>\n    </tr>\n    <tr>\n      <th>25%</th>\n      <td>NaN</td>\n      <td>2013.000000</td>\n      <td>NaN</td>\n      <td>3.000000</td>\n      <td>26.000000</td>\n      <td>NaN</td>\n      <td>NaN</td>\n      <td>2.000000</td>\n      <td>0.000000</td>\n    </tr>\n    <tr>\n      <th>50%</th>\n      <td>NaN</td>\n      <td>2015.000000</td>\n      <td>NaN</td>\n      <td>3.000000</td>\n      <td>28.000000</td>\n      <td>NaN</td>\n      <td>NaN</td>\n      <td>3.000000</td>\n      <td>0.000000</td>\n    </tr>\n    <tr>\n      <th>75%</th>\n      <td>NaN</td>\n      <td>2017.000000</td>\n      <td>NaN</td>\n      <td>3.000000</td>\n      <td>32.000000</td>\n      <td>NaN</td>\n      <td>NaN</td>\n      <td>4.000000</td>\n      <td>1.000000</td>\n    </tr>\n    <tr>\n      <th>max</th>\n      <td>NaN</td>\n      <td>2018.000000</td>\n      <td>NaN</td>\n      <td>3.000000</td>\n      <td>41.000000</td>\n      <td>NaN</td>\n      <td>NaN</td>\n      <td>7.000000</td>\n      <td>1.000000</td>\n    </tr>\n  </tbody>\n</table>\n</div>"
          },
          "metadata": {}
        }
      ],
      "execution_count": 7
    },
    {
      "id": "458b77bd-51ad-4927-93b5-6dd70e5ddfb0",
      "cell_type": "code",
      "source": "df.describe()",
      "metadata": {
        "trusted": true
      },
      "outputs": [
        {
          "execution_count": 8,
          "output_type": "execute_result",
          "data": {
            "text/plain": "       JoiningYear  PaymentTier          Age  ExperienceInCurrentDomain  \\\ncount  4653.000000  4653.000000  4653.000000                4653.000000   \nmean   2015.062970     2.698259    29.393295                   2.905652   \nstd       1.863377     0.561435     4.826087                   1.558240   \nmin    2012.000000     1.000000    22.000000                   0.000000   \n25%    2013.000000     3.000000    26.000000                   2.000000   \n50%    2015.000000     3.000000    28.000000                   3.000000   \n75%    2017.000000     3.000000    32.000000                   4.000000   \nmax    2018.000000     3.000000    41.000000                   7.000000   \n\n        LeaveOrNot  \ncount  4653.000000  \nmean      0.343864  \nstd       0.475047  \nmin       0.000000  \n25%       0.000000  \n50%       0.000000  \n75%       1.000000  \nmax       1.000000  ",
            "text/html": "<div>\n<style scoped>\n    .dataframe tbody tr th:only-of-type {\n        vertical-align: middle;\n    }\n\n    .dataframe tbody tr th {\n        vertical-align: top;\n    }\n\n    .dataframe thead th {\n        text-align: right;\n    }\n</style>\n<table border=\"1\" class=\"dataframe\">\n  <thead>\n    <tr style=\"text-align: right;\">\n      <th></th>\n      <th>JoiningYear</th>\n      <th>PaymentTier</th>\n      <th>Age</th>\n      <th>ExperienceInCurrentDomain</th>\n      <th>LeaveOrNot</th>\n    </tr>\n  </thead>\n  <tbody>\n    <tr>\n      <th>count</th>\n      <td>4653.000000</td>\n      <td>4653.000000</td>\n      <td>4653.000000</td>\n      <td>4653.000000</td>\n      <td>4653.000000</td>\n    </tr>\n    <tr>\n      <th>mean</th>\n      <td>2015.062970</td>\n      <td>2.698259</td>\n      <td>29.393295</td>\n      <td>2.905652</td>\n      <td>0.343864</td>\n    </tr>\n    <tr>\n      <th>std</th>\n      <td>1.863377</td>\n      <td>0.561435</td>\n      <td>4.826087</td>\n      <td>1.558240</td>\n      <td>0.475047</td>\n    </tr>\n    <tr>\n      <th>min</th>\n      <td>2012.000000</td>\n      <td>1.000000</td>\n      <td>22.000000</td>\n      <td>0.000000</td>\n      <td>0.000000</td>\n    </tr>\n    <tr>\n      <th>25%</th>\n      <td>2013.000000</td>\n      <td>3.000000</td>\n      <td>26.000000</td>\n      <td>2.000000</td>\n      <td>0.000000</td>\n    </tr>\n    <tr>\n      <th>50%</th>\n      <td>2015.000000</td>\n      <td>3.000000</td>\n      <td>28.000000</td>\n      <td>3.000000</td>\n      <td>0.000000</td>\n    </tr>\n    <tr>\n      <th>75%</th>\n      <td>2017.000000</td>\n      <td>3.000000</td>\n      <td>32.000000</td>\n      <td>4.000000</td>\n      <td>1.000000</td>\n    </tr>\n    <tr>\n      <th>max</th>\n      <td>2018.000000</td>\n      <td>3.000000</td>\n      <td>41.000000</td>\n      <td>7.000000</td>\n      <td>1.000000</td>\n    </tr>\n  </tbody>\n</table>\n</div>"
          },
          "metadata": {}
        }
      ],
      "execution_count": 8
    },
    {
      "id": "a065b15a-bafa-4c33-ae37-05feb68cd832",
      "cell_type": "code",
      "source": "descriptions={\n'Education':'1',                    \n'JoiningYear':'1',                  \n'City':'1',                         \n'PaymentTier':'1',                  \n'Age ':'1',                         \n'Gender':'1',                       \n'EverBenched':'1',                  \n'ExperienceInCurrentDomain ':'1',   \n'LeaveOrNot':'1'       \n}\nprint(\"\\nVariable descriptions\")\nfor var , desc in descriptions.items():\n    print(f\"{var} : {desc}\")",
      "metadata": {
        "trusted": true
      },
      "outputs": [
        {
          "name": "stdout",
          "output_type": "stream",
          "text": "\nVariable descriptions\nEducation : 1\nJoiningYear : 1\nCity : 1\nPaymentTier : 1\nAge  : 1\nGender : 1\nEverBenched : 1\nExperienceInCurrentDomain  : 1\nLeaveOrNot : 1\n"
        }
      ],
      "execution_count": 9
    },
    {
      "id": "e527f594-9e7b-4942-9127-cbf6e3046826",
      "cell_type": "code",
      "source": "df.dtypes",
      "metadata": {
        "trusted": true
      },
      "outputs": [
        {
          "execution_count": 10,
          "output_type": "execute_result",
          "data": {
            "text/plain": "Education                    object\nJoiningYear                   int64\nCity                         object\nPaymentTier                   int64\nAge                           int64\nGender                       object\nEverBenched                  object\nExperienceInCurrentDomain     int64\nLeaveOrNot                    int64\ndtype: object"
          },
          "metadata": {}
        }
      ],
      "execution_count": 10
    },
    {
      "id": "db531ca9-4fc7-4589-a960-640b0f65426e",
      "cell_type": "code",
      "source": "print(\"\\ndataset dimention(rows,columns)\")\nprint(df.shape)",
      "metadata": {
        "trusted": true
      },
      "outputs": [
        {
          "name": "stdout",
          "output_type": "stream",
          "text": "\ndataset dimention(rows,columns)\n(4653, 9)\n"
        }
      ],
      "execution_count": 11
    },
    {
      "id": "75119ddd-f01c-4f26-9f11-0e49eac236fd",
      "cell_type": "code",
      "source": "df['PaymentTier'] = df['PaymentTier'].astype('Int64')\n",
      "metadata": {
        "trusted": true
      },
      "outputs": [],
      "execution_count": 12
    },
    {
      "id": "b71284f7-d8d7-49c2-b864-c90dee0fd50b",
      "cell_type": "code",
      "source": "df.dtypes",
      "metadata": {
        "trusted": true
      },
      "outputs": [
        {
          "execution_count": 13,
          "output_type": "execute_result",
          "data": {
            "text/plain": "Education                    object\nJoiningYear                   int64\nCity                         object\nPaymentTier                   Int64\nAge                           int64\nGender                       object\nEverBenched                  object\nExperienceInCurrentDomain     int64\nLeaveOrNot                    int64\ndtype: object"
          },
          "metadata": {}
        }
      ],
      "execution_count": 13
    },
    {
      "id": "7b8d91ba-b4ee-46c4-8852-72d8090a3585",
      "cell_type": "code",
      "source": "df['Gender'] = df['Gender'].astype('category')",
      "metadata": {
        "trusted": true
      },
      "outputs": [],
      "execution_count": 14
    },
    {
      "id": "37da45b4-cb45-4240-a4f9-acd255e5ef08",
      "cell_type": "code",
      "source": "df.dtypes",
      "metadata": {
        "trusted": true
      },
      "outputs": [
        {
          "execution_count": 15,
          "output_type": "execute_result",
          "data": {
            "text/plain": "Education                      object\nJoiningYear                     int64\nCity                           object\nPaymentTier                     Int64\nAge                             int64\nGender                       category\nEverBenched                    object\nExperienceInCurrentDomain       int64\nLeaveOrNot                      int64\ndtype: object"
          },
          "metadata": {}
        }
      ],
      "execution_count": 15
    },
    {
      "id": "b92ccf79-737d-42c6-9084-eb0990be131b",
      "cell_type": "code",
      "source": "df[\"Age_zscore\"] = (df['Age'] - df['Age'].mean()) / df['Age'].std()\nprint(\"\\nNormalized(Z-score)\")\nprint(df[['Age','Age_zscore']])\nplt.figure(figsize =(8,4))\nsns.boxplot(x=df['Age'])\nplt.title(\"Boxplot of Age\")\nplt.show()",
      "metadata": {
        "trusted": true
      },
      "outputs": [
        {
          "name": "stdout",
          "output_type": "stream",
          "text": "\nNormalized(Z-score)\n      Age  Age_zscore\n0      34    0.954543\n1      28   -0.288701\n2      38    1.783371\n3      27   -0.495908\n4      24   -1.117530\n...   ...         ...\n4648   26   -0.703115\n4649   37    1.576164\n4650   27   -0.495908\n4651   30    0.125714\n4652   33    0.747335\n\n[4653 rows x 2 columns]\n"
        },
        {
          "output_type": "display_data",
          "data": {
            "text/plain": "<Figure size 800x400 with 1 Axes>",
            "image/png": "[encoded data removed]"
          },
          "metadata": {}
        }
      ],
      "execution_count": 17
    },
    {
      "id": "af6f4d29-1f3d-432a-b1fa-3ccf8441bf85",
      "cell_type": "code",
      "source": "",
      "metadata": {
        "trusted": true
      },
      "outputs": [],
      "execution_count": null
    }
  ]
}